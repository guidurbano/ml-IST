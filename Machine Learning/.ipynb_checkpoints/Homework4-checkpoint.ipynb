{
 "cells": [
  {
   "cell_type": "code",
   "execution_count": 1,
   "metadata": {},
   "outputs": [],
   "source": [
    "import numpy as np\n",
    "from scipy.stats import multivariate_normal\n",
    "import matplotlib.pyplot as plt\n",
    "from sklearn.cluster import KMeans"
   ]
  },
  {
   "cell_type": "markdown",
   "metadata": {},
   "source": [
    "# I) Clustering"
   ]
  },
  {
   "cell_type": "code",
   "execution_count": 2,
   "metadata": {
    "scrolled": true
   },
   "outputs": [
    {
     "name": "stdout",
     "output_type": "stream",
     "text": [
      "------------------------------------------\n",
      "\t\t 1° Epoch\n",
      "---------------- E-Step ------------------\n",
      "For point 0:\n",
      "For C = 0:\n",
      "\t Likelihood: 9.6532e-02\n",
      "\t Joint Probability: 4.8266e-02\n",
      "\n",
      "For C = 1:\n",
      "\t Likelihood: 1.3064e-02\n",
      "\t Joint Probability: 6.5321e-03\n",
      "\n",
      "Normalized Posterior for C = 0: 8.8080e-01\n",
      "Normalized Posterior for C = 1: 1.1920e-01\n",
      "------------------------------------------\n",
      "For point 1:\n",
      "For C = 0:\n",
      "\t Likelihood: 1.5915e-01\n",
      "\t Joint Probability: 7.9577e-02\n",
      "\n",
      "For C = 1:\n",
      "\t Likelihood: 5.8550e-02\n",
      "\t Joint Probability: 2.9275e-02\n",
      "\n",
      "Normalized Posterior for C = 0: 7.3106e-01\n",
      "Normalized Posterior for C = 1: 2.6894e-01\n",
      "------------------------------------------\n",
      "For point 2:\n",
      "For C = 0:\n",
      "\t Likelihood: 5.8550e-02\n",
      "\t Joint Probability: 2.9275e-02\n",
      "\n",
      "For C = 1:\n",
      "\t Likelihood: 1.5915e-01\n",
      "\t Joint Probability: 7.9577e-02\n",
      "\n",
      "Normalized Posterior for C = 0: 2.6894e-01\n",
      "Normalized Posterior for C = 1: 7.3106e-01\n",
      "------------------------------------------\n",
      "\n",
      "\n",
      "---------------- M-Step -------------\n",
      "New means are: [array([1.32531721, 0.14299332]), array([0.45331124, 0.65319574])]\n",
      "New cov are: [array([[ 0.50547257, -0.18951151],\n",
      "       [-0.18951151,  0.12254623]]), array([[ 0.46083412, -0.29610097],\n",
      "       [-0.29610097,  0.22653107]])]\n",
      "For point 0:\n",
      "For C = 0:\n",
      "\t Likelihood: 5.5918e-01\n",
      "For C = 1:\n",
      "\t Likelihood: 1.8560e-02\n",
      "For point 1:\n",
      "For C = 0:\n",
      "\t Likelihood: 4.4935e-01\n",
      "For C = 1:\n",
      "\t Likelihood: 2.5335e-01\n",
      "For point 2:\n",
      "For C = 0:\n",
      "\t Likelihood: 4.9278e-02\n",
      "For C = 1:\n",
      "\t Likelihood: 9.4394e-01\n",
      "New Prior is: [0.62693236 0.37306764]\n",
      "------------------------------------------\n",
      "\t\t 2° Epoch\n",
      "---------------- E-Step ------------------\n",
      "For point 0:\n",
      "For C = 0:\n",
      "\t Likelihood: 5.5918e-01\n",
      "\t Joint Probability: 3.5057e-01\n",
      "\n",
      "For C = 1:\n",
      "\t Likelihood: 1.8560e-02\n",
      "\t Joint Probability: 6.9241e-03\n",
      "\n",
      "Normalized Posterior for C = 0: 9.8063e-01\n",
      "Normalized Posterior for C = 1: 1.9368e-02\n",
      "------------------------------------------\n",
      "For point 1:\n",
      "For C = 0:\n",
      "\t Likelihood: 4.4935e-01\n",
      "\t Joint Probability: 2.8171e-01\n",
      "\n",
      "For C = 1:\n",
      "\t Likelihood: 2.5335e-01\n",
      "\t Joint Probability: 9.4517e-02\n",
      "\n",
      "Normalized Posterior for C = 0: 7.4878e-01\n",
      "Normalized Posterior for C = 1: 2.5122e-01\n",
      "------------------------------------------\n",
      "For point 2:\n",
      "For C = 0:\n",
      "\t Likelihood: 4.9278e-02\n",
      "\t Joint Probability: 3.0894e-02\n",
      "\n",
      "For C = 1:\n",
      "\t Likelihood: 9.4394e-01\n",
      "\t Joint Probability: 3.5215e-01\n",
      "\n",
      "Normalized Posterior for C = 0: 8.0653e-02\n",
      "Normalized Posterior for C = 1: 9.1935e-01\n",
      "------------------------------------------\n",
      "\n",
      "\n",
      "---------------- M-Step -------------\n",
      "New means are: [array([1.49720845, 0.04455836]), array([0.24367615, 0.77260061])]\n",
      "New cov are: [array([[ 0.33910892, -0.06671315],\n",
      "       [-0.06671315,  0.04257291]]), array([[ 0.2168516 , -0.18826434],\n",
      "       [-0.18826434,  0.17568891]])]\n",
      "For point 0:\n",
      "For C = 0:\n",
      "\t Likelihood: 1.0434e+00\n",
      "For C = 1:\n",
      "\t Likelihood: 2.3227e-13\n",
      "For point 1:\n",
      "For C = 0:\n",
      "\t Likelihood: 7.8405e-01\n",
      "For C = 1:\n",
      "\t Likelihood: 4.7687e-01\n",
      "For point 2:\n",
      "For C = 0:\n",
      "\t Likelihood: 3.5152e-05\n",
      "For C = 1:\n",
      "\t Likelihood: 2.6661e+00\n",
      "New Prior is: [0.6033541 0.3966459]\n"
     ]
    }
   ],
   "source": [
    "# Data\n",
    "X = np.array([[2, 0], [1, 0], [0, 1]])\n",
    "\n",
    "# Number of clusters\n",
    "K = 2\n",
    "\n",
    "# Means\n",
    "mi = np.array([[1, 0], [0, 1]])\n",
    "\n",
    "# Covariances\n",
    "cov = np.array([[[1, 0], [0, 1]], [[1, 0], [0, 1]]])\n",
    "\n",
    "# Prior probability\n",
    "pi = [0.5, 0.5]\n",
    "\n",
    "# Epochs\n",
    "epochs = 2\n",
    "\n",
    "###########################################################\n",
    "\n",
    "for epoch in range(0, epochs):\n",
    "    print('------------------------------------------')\n",
    "    print(f'\\t\\t {epoch+1}° Epoch')\n",
    "\n",
    "    # E-STEP\n",
    "    print('---------------- E-Step ------------------')\n",
    "    list_likelihood = []\n",
    "    list_joint_prob = []\n",
    "    list_norm_posterior = []\n",
    "\n",
    "    for i in range(0, len(X)): # Para cada exemplo\n",
    "        print(f'For point {i}:')\n",
    "\n",
    "        list_likelihood_i = []\n",
    "        list_joint_prob_i = []\n",
    "        list_norm_posterior_i = []\n",
    "\n",
    "        for k in range(0, K): # Para cada cluster\n",
    "            likelihood = multivariate_normal.pdf(X[i], mean = mi[k], cov = cov[k], allow_singular=True) # sci.norm(df.mean()[i], df.std(ddof=0)[i]).pdf(x[i])\n",
    "\n",
    "            print(f'For C = {k}:')\n",
    "\n",
    "            print(f\"\\t Likelihood: {'{:.4e}'.format(likelihood)}\")\n",
    "            list_likelihood_i.append(likelihood)\n",
    "\n",
    "            joint_prob = likelihood * pi[k]\n",
    "            print(f\"\\t Joint Probability: {'{:.4e}'.format(joint_prob)}\\n\")\n",
    "            list_joint_prob_i.append(joint_prob)\n",
    "\n",
    "        list_likelihood.append(list_likelihood_i)\n",
    "        list_joint_prob.append(list_joint_prob_i)\n",
    "\n",
    "\n",
    "        for k in range(0, K):\n",
    "            norm_posterior = list_joint_prob[i][k] / np.sum(list_joint_prob[i])\n",
    "            print(f\"Normalized Posterior for C = {k}: {'{:.4e}'.format(norm_posterior)}\")\n",
    "\n",
    "            list_norm_posterior_i.append(norm_posterior)\n",
    "        list_norm_posterior.append(list_norm_posterior_i)\n",
    "        print('------------------------------------------')\n",
    "\n",
    "    # M-STEP\n",
    "    print('\\n')\n",
    "    print('---------------- M-Step -------------')\n",
    "\n",
    "    # New means\n",
    "    mi = [np.average(X, weights=np.array(list_norm_posterior).T[k], axis=0) for k in range(0, K)]\n",
    "    print(f'New means are: {mi}')\n",
    "\n",
    "    # New covariances\n",
    "    cov = [np.cov(X, rowvar =False, bias=True, aweights=np.array(list_norm_posterior).T[k]) for k in range(0, K)]\n",
    "    print(f'New cov are: {cov}')\n",
    "\n",
    "    # New likelihoods\n",
    "    list_likelihood = []\n",
    "\n",
    "    for i in range(0, len(X)): # Para cada exemplo\n",
    "        print(f'For point {i}:')\n",
    "\n",
    "        list_likelihood_i = []\n",
    "\n",
    "        for k in range(0, K): # Para cada cluster\n",
    "            likelihood = multivariate_normal.pdf(X[i], mean = mi[k], cov = cov[k], allow_singular=True)\n",
    "\n",
    "            print(f'For C = {k}:')\n",
    "\n",
    "            print(f\"\\t Likelihood: {'{:.4e}'.format(likelihood)}\")\n",
    "            list_likelihood_i.append(likelihood)\n",
    "\n",
    "        list_likelihood.append(list_likelihood_i)\n",
    "\n",
    "    # New Priors\n",
    "    pi = np.sum(list_norm_posterior, axis=0) / np.sum(np.sum(list_norm_posterior))\n",
    "    print(f'New Prior is: {pi}')"
   ]
  },
  {
   "cell_type": "markdown",
   "metadata": {},
   "source": [
    "## RBF netwoork with Kmeans"
   ]
  },
  {
   "attachments": {
    "image.png": {
     "image/png": "[encoded data removed]"
    }
   },
   "cell_type": "markdown",
   "metadata": {},
   "source": [
    "![image.png](attachment:image.png)"
   ]
  },
  {
   "cell_type": "code",
   "execution_count": 3,
   "metadata": {},
   "outputs": [],
   "source": [
    "# Data\n",
    "X = np.array([[0, 0], [0, 1], [1, 0], [1, 1], [1.2, 1.2], [0.2, 0.2]])\n",
    "t = np.array([1, 0, 0, 1, 1, 1])\n",
    "sigma = 1 # for all clusters"
   ]
  },
  {
   "cell_type": "code",
   "execution_count": 4,
   "metadata": {},
   "outputs": [],
   "source": [
    "# Cluster centers initialized\n",
    "C = np.array([[0, 0], [0, 1], [1, 0], [1, 1]])\n",
    "sigma = 1"
   ]
  },
  {
   "cell_type": "code",
   "execution_count": 5,
   "metadata": {
    "scrolled": false
   },
   "outputs": [
    {
     "data": {
      "image/png": "[encoded data removed]",
      "text/plain": [
       "<Figure size 432x288 with 1 Axes>"
      ]
     },
     "metadata": {
      "needs_background": "light"
     },
     "output_type": "display_data"
    }
   ],
   "source": [
    "# First we look determine the cluster centers of k-Means by drawing the values in 2 dim coordinate system\n",
    "plt.scatter(C.T[0], C.T[1], color=['g', 'b', 'r', 'black'], marker = 'o', s=80)\n",
    "plt.scatter(X.T[0][4], X.T[1][4], color='black', marker = 'o', s=80)\n",
    "plt.scatter(X.T[0][5], X.T[1][5], color='g', marker = 'o', s=80)\n",
    "plt.xlabel('X')\n",
    "plt.ylabel('Y')\n",
    "plt.show()"
   ]
  },
  {
   "cell_type": "code",
   "execution_count": 6,
   "metadata": {},
   "outputs": [
    {
     "name": "stdout",
     "output_type": "stream",
     "text": [
      "Clusters are given by: \n",
      " [[0.1 0.1]\n",
      " [0.  1. ]\n",
      " [1.  0. ]\n",
      " [1.1 1.1]]\n",
      "The point [0. 0.] belongs to cluster number 0\n",
      "The point [0. 1.] belongs to cluster number 1\n",
      "The point [1. 0.] belongs to cluster number 2\n",
      "The point [1. 1.] belongs to cluster number 3\n",
      "The point [1.2 1.2] belongs to cluster number 3\n",
      "The point [0.2 0.2] belongs to cluster number 0\n"
     ]
    }
   ],
   "source": [
    "# Kmeans algorithm to find cluster centers\n",
    "kmeans = KMeans(n_clusters=len(C), init=C, random_state=42, n_init=1)\n",
    "kmeans.fit(X)\n",
    "C_new = kmeans.cluster_centers_\n",
    "print(f'Clusters are given by: \\n {C_new }')\n",
    "\n",
    "for i in range(0, len(X)):\n",
    "    print(f'The point {X[i]} belongs to cluster number {kmeans.labels_[i]}') "
   ]
  },
  {
   "cell_type": "code",
   "execution_count": 7,
   "metadata": {},
   "outputs": [
    {
     "data": {
      "image/png": "[encoded data removed]",
      "text/plain": [
       "<Figure size 432x288 with 1 Axes>"
      ]
     },
     "metadata": {
      "needs_background": "light"
     },
     "output_type": "display_data"
    }
   ],
   "source": [
    "# First we look determine the cluster centers of k-Means by drawing the values in 2 dim coordinate system\n",
    "plt.scatter(C_new.T[0], C_new.T[1], color=['g', 'b', 'r', 'black'], marker = '*', s=80)\n",
    "plt.scatter(X.T[0], X.T[1], color=['g', 'b', 'r', 'black', 'black', 'g'], marker = 'o', s=80)\n",
    "plt.xlabel('X')\n",
    "plt.ylabel('Y')\n",
    "plt.show()"
   ]
  },
  {
   "cell_type": "code",
   "execution_count": 8,
   "metadata": {
    "scrolled": false
   },
   "outputs": [
    {
     "name": "stdout",
     "output_type": "stream",
     "text": [
      "1° epoch:\n",
      "[1.02898373 1.0177562  1.0177562  1.00872973 1.02927502]\n",
      "[0.38210589 0.04302916 0.65917416 0.47911095 0.05454799]\n",
      "[-0.13299687 -0.24250635 -0.11699184  0.05738048 -0.72161801]\n",
      "[ 0.18708184  0.193897    0.31941151  0.76972874 -0.00211053]\n",
      "[0.2637736  0.31660337 0.44211788 1.02435436 0.25507412]\n",
      "[0.44262598 0.44518459 0.57069911 1.10471791 0.435724  ]\n",
      "\n",
      "\n",
      "2° epoch:\n",
      "[0.5807278  0.52978941 0.65530393 1.14631338 0.57521376]\n",
      "[-0.02536904 -0.3834881   0.31932791  0.65008325 -0.33806375]\n",
      "[-0.38641412 -0.58362523 -0.22470123  0.35448455 -0.88209289]\n",
      "[-0.04506007 -0.11821455  0.24070945  1.11418195 -0.1147604 ]\n",
      "[0.03319781 0.0069976  0.3659216  1.37400727 0.14767621]\n",
      "[0.28847432 0.19052195 0.54944595 1.4887104  0.40551829]\n",
      "\n",
      "\n"
     ]
    }
   ],
   "source": [
    "# RBF network with K-means\n",
    "w = np.ones(C_new.shape[0] + 1) # BIAS INCLUDED\n",
    "\n",
    "eta = 1 # learning rate\n",
    "\n",
    "epochs = 2 # number of epochs\n",
    "\n",
    "RBF_centers = []\n",
    "\n",
    "for i in range(0, len(X)):\n",
    "    RBF_centers_i = []\n",
    "\n",
    "    for j in range(0, len(C_new)):\n",
    "        RBF_centers_i.append(np.exp(- (np.linalg.norm(X[i] - C_new[j]))**2 / (2*sigma**2)))\n",
    "\n",
    "    RBF_centers.append(RBF_centers_i)\n",
    "\n",
    "RBF_centers = np.array(RBF_centers)\n",
    "    \n",
    "RBF_centers = np.insert(RBF_centers, len(RBF_centers[0]), 1, axis=1) # INCLUDE BIAS\n",
    "\n",
    "for epoch in range(0, epochs):\n",
    "    print(f\"{epoch+1}° epoch:\")\n",
    "    for i in range(0, len(X)):\n",
    "        net = RBF_centers[i].dot(w)\n",
    "        net = 1 / (1 + np.exp(-net))\n",
    "        \n",
    "        delta_w = eta * (t[i] - net) * RBF_centers[i]\n",
    "        w = w + delta_w\n",
    "        print(w)\n",
    "    print('\\n')"
   ]
  },
  {
   "cell_type": "code",
   "execution_count": 9,
   "metadata": {
    "scrolled": true
   },
   "outputs": [
    {
     "data": {
      "text/plain": [
       "0.9210397849996868"
      ]
     },
     "execution_count": 9,
     "metadata": {},
     "output_type": "execute_result"
    }
   ],
   "source": [
    "# Query vector\n",
    "X_query = np.array([1, 1])\n",
    "t_query = 1\n",
    "\n",
    "RBF_centers_query = []\n",
    "\n",
    "for j in range(0, len(C_new)):\n",
    "    RBF_centers_query.append(np.exp(- (np.linalg.norm(X_query - C_new[j]))**2 / (2*sigma**2)))\n",
    "\n",
    "RBF_centers_query = np.array(RBF_centers_query)\n",
    "    \n",
    "RBF_centers_query = np.insert(RBF_centers_query, len(RBF_centers_query), 1)\n",
    "\n",
    "net = RBF_centers_query.dot(w)\n",
    "net = 1 / (1 + np.exp(-net))\n",
    "net"
   ]
  },
  {
   "cell_type": "markdown",
   "metadata": {},
   "source": [
    "# III) PCA"
   ]
  },
  {
   "cell_type": "markdown",
   "metadata": {},
   "source": [
    "The Karhunen-Loève transform is a linear transform that maps possibly correlated variables into a set of values of linearly\n",
    "uncorrelated variables. \n",
    "The KL transformation rotates the coordinate system so that the covariance matrix is diagonal.\n",
    "This transformation is defined in such a way that the first principal component has the largest possible variance."
   ]
  },
  {
   "cell_type": "code",
   "execution_count": 10,
   "metadata": {},
   "outputs": [],
   "source": [
    "data = np.array([[1, 1], [2, 2], [3, 3], [5, 4]])"
   ]
  },
  {
   "cell_type": "code",
   "execution_count": 11,
   "metadata": {},
   "outputs": [
    {
     "data": {
      "text/plain": [
       "array([[2.1875, 1.625 ],\n",
       "       [1.625 , 1.25  ]])"
      ]
     },
     "execution_count": 11,
     "metadata": {},
     "output_type": "execute_result"
    }
   ],
   "source": [
    "cov_matrix = np.cov(data.T, bias=True)\n",
    "cov_matrix"
   ]
  },
  {
   "cell_type": "code",
   "execution_count": 12,
   "metadata": {},
   "outputs": [
    {
     "data": {
      "text/plain": [
       "-3.4375"
      ]
     },
     "execution_count": 12,
     "metadata": {},
     "output_type": "execute_result"
    }
   ],
   "source": [
    "- cov_matrix[0][0] - cov_matrix[1][1]"
   ]
  },
  {
   "cell_type": "code",
   "execution_count": 13,
   "metadata": {},
   "outputs": [
    {
     "data": {
      "text/plain": [
       "0.09375"
      ]
     },
     "execution_count": 13,
     "metadata": {},
     "output_type": "execute_result"
    }
   ],
   "source": [
    "cov_matrix[0][0] * cov_matrix[1][1] - (cov_matrix[0][1] * cov_matrix[1][0])"
   ]
  },
  {
   "cell_type": "code",
   "execution_count": 14,
   "metadata": {},
   "outputs": [
    {
     "name": "stdout",
     "output_type": "stream",
     "text": [
      "The eigenvalues are given by: \n",
      " [3.41000739 0.02749261]\n",
      "The eigenvectors are given by: \n",
      " [[ 0.79911221 -0.6011819 ]\n",
      " [ 0.6011819   0.79911221]]\n"
     ]
    }
   ],
   "source": [
    "# Solve the equation for lambda\n",
    "eigenvalues = np.linalg.eig(cov_matrix)[0]\n",
    "eigenvectors = np.linalg.eig(cov_matrix)[1]\n",
    "print(f'The eigenvalues are given by: \\n {eigenvalues}')\n",
    "print(f'The eigenvectors are given by: \\n {eigenvectors}') "
   ]
  },
  {
   "cell_type": "code",
   "execution_count": 15,
   "metadata": {},
   "outputs": [
    {
     "data": {
      "text/plain": [
       "-1.625"
      ]
     },
     "execution_count": 15,
     "metadata": {},
     "output_type": "execute_result"
    }
   ],
   "source": [
    "((np.identity(len(data[0])) * eigenvalues[0]) - cov_matrix)[0][1]"
   ]
  },
  {
   "cell_type": "code",
   "execution_count": 16,
   "metadata": {},
   "outputs": [
    {
     "data": {
      "text/plain": [
       "array([[-1.22250739, -1.25      ],\n",
       "       [-1.25      , -1.22250739]])"
      ]
     },
     "execution_count": 16,
     "metadata": {},
     "output_type": "execute_result"
    }
   ],
   "source": [
    "(np.identity(len(data[0])) * eigenvalues[1]) - cov_matrix[1][1]"
   ]
  },
  {
   "cell_type": "code",
   "execution_count": 17,
   "metadata": {},
   "outputs": [
    {
     "data": {
      "text/plain": [
       "-1.329235317518062"
      ]
     },
     "execution_count": 17,
     "metadata": {},
     "output_type": "execute_result"
    }
   ],
   "source": [
    "((np.identity(len(data[0])) * eigenvalues[1]) - cov_matrix[0][1])[0][1] / -((np.identity(len(data[0])) * eigenvalues[1]) - cov_matrix[1][1])[1][1]"
   ]
  },
  {
   "cell_type": "code",
   "execution_count": 18,
   "metadata": {},
   "outputs": [
    {
     "name": "stdout",
     "output_type": "stream",
     "text": [
      "[0.79911221 0.6011819 ]\n",
      "[ 0.60118199 -0.79911214]\n"
     ]
    }
   ],
   "source": [
    "a = np.array([[1, 0.75231224], [1, -1.329235]])\n",
    "\n",
    "plane_1 = a[0] / np.linalg.norm(a[0])\n",
    "plane_2 = a[1] / np.linalg.norm(a[1])\n",
    "\n",
    "print(plane_1)\n",
    "print(plane_2)"
   ]
  },
  {
   "cell_type": "code",
   "execution_count": 19,
   "metadata": {},
   "outputs": [
    {
     "name": "stdout",
     "output_type": "stream",
     "text": [
      "Projection of Vector [1 1] on Vector v is:  1.40029411\n",
      "Projection of Vector [2 2] on Vector v is:  2.80058822\n",
      "Projection of Vector [3 3] on Vector v is:  4.20088233\n",
      "Projection of Vector [5 4] on Vector v is:  6.40028865\n"
     ]
    }
   ],
   "source": [
    "# Projecting the data into the principal component\n",
    "dim = np.array([0.79911221, 0.6011819])   # vector v:\n",
    "  \n",
    "for point in data:\n",
    "    proj_of_point_on_dim = np.dot(point, dim)\n",
    "    print(f\"Projection of Vector {point} on Vector v is: \", proj_of_point_on_dim)"
   ]
  },
  {
   "cell_type": "markdown",
   "metadata": {},
   "source": [
    "# Kmeans"
   ]
  },
  {
   "cell_type": "code",
   "execution_count": 20,
   "metadata": {},
   "outputs": [
    {
     "name": "stdout",
     "output_type": "stream",
     "text": [
      "The final mean vector is given by: [array([1.4, 1.2, 0.4]), array([8., 8., 4.])]\n"
     ]
    }
   ],
   "source": [
    "# Data\n",
    "X = np.array([[1, 0, 0], [8, 8, 4], [3, 3, 0], [0, 0, 1], [0, 1, 0], [3, 2, 1]])\n",
    "\n",
    "# Number of clusters\n",
    "K = 2\n",
    "\n",
    "# Means\n",
    "mi = np.array([[1, 0, 0], [8, 8, 4]])\n",
    "\n",
    "# Epochs\n",
    "epochs = 10\n",
    "\n",
    "for epoch in range(0, epochs):\n",
    "    # Step 1: Assign points to clusters\n",
    "    assignments = []\n",
    "    for i in range(0, len(X)):\n",
    "        dist = []\n",
    "        for j in range(0, K):\n",
    "            dist.append(np.linalg.norm(X[i] - mi[j])**2)\n",
    "        assignments.append(np.argmin(dist))\n",
    "\n",
    "    # Step 2: Compute new clusters\n",
    "    mi_new = [np.average(X[np.array(assignments) == k], axis=0) for k in range(0, K)]\n",
    "\n",
    "    # Step 3: Verify convergence\n",
    "    for a in range(0, K):\n",
    "        if np.linalg.norm(mi[a] - mi_new[a])**2 > 0.01:\n",
    "            mi = mi_new\n",
    "        else:\n",
    "            break\n",
    "print(f'The final mean vector is given by: {mi}')"
   ]
  },
  {
   "cell_type": "markdown",
   "metadata": {},
   "source": [
    "# CNN"
   ]
  },
  {
   "cell_type": "code",
   "execution_count": 65,
   "metadata": {},
   "outputs": [
    {
     "name": "stdout",
     "output_type": "stream",
     "text": [
      "Model: \"sequential_19\"\n",
      "_________________________________________________________________\n",
      "Layer (type)                 Output Shape              Param #   \n",
      "=================================================================\n",
      "conv (Conv2D)                (None, 10, 10, 8)         208       \n",
      "_________________________________________________________________\n",
      "conv2 (Conv2D)               (None, 10, 10, 12)        876       \n",
      "=================================================================\n",
      "Total params: 1,084\n",
      "Trainable params: 1,084\n",
      "Non-trainable params: 0\n",
      "_________________________________________________________________\n"
     ]
    }
   ],
   "source": [
    "from tensorflow import keras\n",
    "model = keras.Sequential([\n",
    "    keras.layers.Conv2D(filters=8, # number of kernels\n",
    "                        kernel_size=(5, 5), # shape or kernel\n",
    "                        strides=(1, 1),\n",
    "                        input_shape=(10, 10 , 1),\n",
    "                        padding='same', \n",
    "                        use_bias=True,\n",
    "                       name='conv'),\n",
    "    \n",
    "    keras.layers.Conv2D(filters=12, # number of kernels\n",
    "                        kernel_size=(3, 3), # shape or kernel\n",
    "                        strides=(1, 1),\n",
    "                        padding='same', \n",
    "                        use_bias=True,\n",
    "                       name='conv2'),\n",
    "    \n",
    "    #tf.keras.layers.MaxPooling2D(pool_size=(4, 4),\n",
    "    #                             strides=(2, 2),\n",
    "    #                             name='pooling')\n",
    "])\n",
    " \n",
    "model.summary()"
   ]
  }
 ],
 "metadata": {
  "kernelspec": {
   "display_name": "Python 3",
   "language": "python",
   "name": "python3"
  },
  "language_info": {
   "codemirror_mode": {
    "name": "ipython",
    "version": 3
   },
   "file_extension": ".py",
   "mimetype": "text/x-python",
   "name": "python",
   "nbconvert_exporter": "python",
   "pygments_lexer": "ipython3",
   "version": "3.7.9"
  }
 },
 "nbformat": 4,
 "nbformat_minor": 4
}
