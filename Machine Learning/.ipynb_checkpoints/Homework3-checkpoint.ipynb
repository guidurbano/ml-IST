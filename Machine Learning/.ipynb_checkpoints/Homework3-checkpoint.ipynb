{
 "cells": [
  {
   "cell_type": "markdown",
   "metadata": {},
   "source": [
    "# Exercise 1"
   ]
  },
  {
   "cell_type": "code",
   "execution_count": 1,
   "metadata": {},
   "outputs": [],
   "source": [
    "from sklearn import datasets\n",
    "from sklearn.model_selection import train_test_split\n",
    "import numpy as np"
   ]
  },
  {
   "cell_type": "code",
   "execution_count": 2,
   "metadata": {},
   "outputs": [
    {
     "name": "stdout",
     "output_type": "stream",
     "text": [
      "Iris Data\n",
      " ['data', 'target', 'frame', 'target_names', 'DESCR', 'feature_names', 'filename']\n"
     ]
    }
   ],
   "source": [
    "iris = datasets.load_iris()\n",
    "print(\"Iris Data\\n\",list(iris.keys()))"
   ]
  },
  {
   "cell_type": "code",
   "execution_count": 3,
   "metadata": {},
   "outputs": [],
   "source": [
    "X = iris.data[:, :2] # we only take the first two features."
   ]
  },
  {
   "cell_type": "code",
   "execution_count": 4,
   "metadata": {},
   "outputs": [],
   "source": [
    "y = (iris[\"target\"] == 2).astype(np.int) # 1 if Iris-Virginica, else 0"
   ]
  },
  {
   "cell_type": "code",
   "execution_count": 5,
   "metadata": {},
   "outputs": [
    {
     "name": "stdout",
     "output_type": "stream",
     "text": [
      "[0 0 0 0 0 0 0 0 0 0 0 0 0 0 0 0 0 0 0 0 0 0 0 0 0 0 0 0 0 0 0 0 0 0 0 0 0\n",
      " 0 0 0 0 0 0 0 0 0 0 0 0 0 0 0 0 0 0 0 0 0 0 0 0 0 0 0 0 0 0 0 0 0 0 0 0 0\n",
      " 0 0 0 0 0 0 0 0 0 0 0 0 0 0 0 0 0 0 0 0 0 0 0 0 0 0 1 1 1 1 1 1 1 1 1 1 1\n",
      " 1 1 1 1 1 1 1 1 1 1 1 1 1 1 1 1 1 1 1 1 1 1 1 1 1 1 1 1 1 1 1 1 1 1 1 1 1\n",
      " 1 1]\n"
     ]
    }
   ],
   "source": [
    "print(y)"
   ]
  },
  {
   "cell_type": "code",
   "execution_count": 6,
   "metadata": {},
   "outputs": [],
   "source": [
    "# Split into a train and test partition.\n",
    "X_train, X_test, y_train, y_test = train_test_split(X, y, test_size=0.2, random_state=0)"
   ]
  },
  {
   "cell_type": "code",
   "execution_count": 7,
   "metadata": {},
   "outputs": [],
   "source": [
    "from sklearn.linear_model import LogisticRegression"
   ]
  },
  {
   "cell_type": "code",
   "execution_count": 8,
   "metadata": {},
   "outputs": [],
   "source": [
    "log_reg = LogisticRegression()"
   ]
  },
  {
   "cell_type": "code",
   "execution_count": 9,
   "metadata": {},
   "outputs": [
    {
     "data": {
      "text/plain": [
       "LogisticRegression()"
      ]
     },
     "execution_count": 9,
     "metadata": {},
     "output_type": "execute_result"
    }
   ],
   "source": [
    "log_reg.fit(X_train, y_train)"
   ]
  },
  {
   "cell_type": "code",
   "execution_count": 10,
   "metadata": {},
   "outputs": [
    {
     "name": "stdout",
     "output_type": "stream",
     "text": [
      "Predict (train): [1 0 0 0 1 0 0 0 0 0 1 0 1 0 0 0 1 1 0 1 0 1 0 0 1 1 0 1 1 1 0 0 0 0 0 0 0\n",
      " 1 0 0 1 0 0 0 1 0 0 0 0 1 1 0 0 1 1 1 1 0 0 1 1 0 0 0 0 1 0 0 1 0 0 0 0 1\n",
      " 1 0 0 0 0 1 0 0 1 0 1 0 1 1 0 0 0 1 0 0 1 0 0 0 0 0 1 1 1 1 0 0 1 0 0 1 0\n",
      " 0 1 0 0 0 1 0 1 0]\n",
      "Predict (test): [0 0 0 1 0 0 0 1 1 0 0 1 0 1 0 0 0 0 0 0 0 0 0 0 0 0 0 0 0 0]\n"
     ]
    }
   ],
   "source": [
    "print(\"Predict (train):\", log_reg.predict(X_train[:len(y_train), :]))\n",
    "print(\"Predict (test):\", log_reg.predict(X_test[:len(y_test), :]))"
   ]
  },
  {
   "cell_type": "code",
   "execution_count": 11,
   "metadata": {},
   "outputs": [
    {
     "name": "stdout",
     "output_type": "stream",
     "text": [
      "The training accuracy is 83.3333 %\n"
     ]
    }
   ],
   "source": [
    "print(f\"The training accuracy is {round(100 * log_reg.score(X_train, y_train), 4)} %\")"
   ]
  },
  {
   "cell_type": "code",
   "execution_count": 12,
   "metadata": {},
   "outputs": [
    {
     "name": "stdout",
     "output_type": "stream",
     "text": [
      "The test accuracy is 70.0 %\n"
     ]
    }
   ],
   "source": [
    "print(f\"The test accuracy is {round(100 *log_reg.score(X_test, y_test), 4)} %\")"
   ]
  },
  {
   "cell_type": "markdown",
   "metadata": {},
   "source": [
    "# Exercise 2"
   ]
  },
  {
   "cell_type": "code",
   "execution_count": 16,
   "metadata": {},
   "outputs": [],
   "source": [
    "import matplotlib.pyplot as plt"
   ]
  },
  {
   "cell_type": "code",
   "execution_count": 17,
   "metadata": {},
   "outputs": [],
   "source": [
    "X_bias = np.insert(X, 0, 1, axis=1) # Add bias to design matrix"
   ]
  },
  {
   "cell_type": "code",
   "execution_count": 18,
   "metadata": {},
   "outputs": [],
   "source": [
    "# Split into a train and test partition.\n",
    "X_train, X_test, y_train, y_test = train_test_split(X_bias, y, test_size=0.2, random_state=0)"
   ]
  },
  {
   "cell_type": "code",
   "execution_count": 19,
   "metadata": {},
   "outputs": [],
   "source": [
    "# Function to print Training and Test accuracy\n",
    "def accuracy(X_train, X_test, y_train, y_test, w):\n",
    "    right_pred = 0\n",
    "    for i in range(0, len(X_train)):\n",
    "        if np.dot(X_train[i], w)[0] >= 0.5 and y_train[i] == 1:\n",
    "            right_pred = right_pred + 1\n",
    "        elif np.dot(X_train[i], w)[0] < 0.5 and y_train[i] == 0:\n",
    "            right_pred = right_pred + 1\n",
    "\n",
    "    print(f\"The training accuracy is {round(100 * right_pred / len(y_train), 4)} %\")\n",
    "\n",
    "    right_pred = 0\n",
    "    for i in range(0, len(X_test)):\n",
    "        if np.dot(X_test[i], w)[0] >= 0.5 and y_test[i] == 1:\n",
    "            right_pred = right_pred + 1\n",
    "        elif np.dot(X_test[i], w)[0] < 0.5 and y_test[i] == 0:\n",
    "            right_pred = right_pred + 1\n",
    "\n",
    "    print(f\"The test accuracy is {round(100 * right_pred / len(y_test), 4)} %\")"
   ]
  },
  {
   "cell_type": "markdown",
   "metadata": {},
   "source": [
    "### i) Squared error and Linear unit (Linear Regression)"
   ]
  },
  {
   "cell_type": "code",
   "execution_count": 19,
   "metadata": {},
   "outputs": [],
   "source": [
    "def mean_squared_error(X, y, w):\n",
    "    MSE = 0\n",
    "    for i in range(len(X)):\n",
    "        MSE = MSE + (y[i] - np.dot(X[i], w))**2\n",
    "        \n",
    "    MSE = MSE[0] / len(X)\n",
    "    \n",
    "    return MSE"
   ]
  },
  {
   "cell_type": "code",
   "execution_count": 21,
   "metadata": {
    "scrolled": true
   },
   "outputs": [
    {
     "name": "stdout",
     "output_type": "stream",
     "text": [
      "The training accuracy is 79.1667 %\n",
      "The test accuracy is 70.0 %\n"
     ]
    }
   ],
   "source": [
    "# Stochastic gradient descent\n",
    "\n",
    "n = 0.03 # learning rate (best possible from trial and eror)\n",
    "epochs = 1000 # number of epochs\n",
    "w = np.ones(shape=(X_train.shape[1], 1)) * np.random.random() # random weight initialization\n",
    "\n",
    "A = [mean_squared_error(X_train, y_train, w)] # vector with error\n",
    "\n",
    "for j in range(0, epochs): # going through each epoch\n",
    "    \n",
    "    for i in range(0, len(X_train)): # going through all examples\n",
    "        net = np.dot(X_train[i], w)[0]\n",
    "        delta_w = n * 1/len(X_train) * (y_train[i] - net) * X_train[i] # update\n",
    "        w = w + delta_w.reshape((len(w), 1))\n",
    "        \n",
    "    A.append(mean_squared_error(X_train, y_train, w))\n",
    "\n",
    "accuracy(X_train, X_test, y_train, y_test, w)"
   ]
  },
  {
   "cell_type": "code",
   "execution_count": 22,
   "metadata": {
    "scrolled": false
   },
   "outputs": [
    {
     "data": {
      "image/png": "[encoded data removed]",
      "text/plain": [
       "<Figure size 432x288 with 1 Axes>"
      ]
     },
     "metadata": {
      "needs_background": "light"
     },
     "output_type": "display_data"
    }
   ],
   "source": [
    "plt.plot(A)\n",
    "plt.title(f\"Squared Error and Linear Unit \\n Learning rate: {n}\")\n",
    "plt.xlabel('Epochs')\n",
    "plt.ylabel('Squared Error')\n",
    "plt.show()"
   ]
  },
  {
   "cell_type": "markdown",
   "metadata": {},
   "source": [
    "### ii) Squared error and Sigmoid unit "
   ]
  },
  {
   "cell_type": "code",
   "execution_count": 23,
   "metadata": {},
   "outputs": [],
   "source": [
    "def sigmoid(net):\n",
    "    return 1 / (1 + np.e**(-2*net))"
   ]
  },
  {
   "cell_type": "code",
   "execution_count": 24,
   "metadata": {},
   "outputs": [],
   "source": [
    "def mean_squared_error_sigmoid(X, y, w):\n",
    "    MSE = 0\n",
    "    for i in range(len(X)):\n",
    "        MSE = MSE + (y[i] - sigmoid(np.dot(X[i], w)))**2\n",
    "        \n",
    "    MSE = MSE[0] / len(X)\n",
    "    \n",
    "    return MSE"
   ]
  },
  {
   "cell_type": "code",
   "execution_count": 25,
   "metadata": {
    "scrolled": false
   },
   "outputs": [
    {
     "name": "stdout",
     "output_type": "stream",
     "text": [
      "The training accuracy is 75.8333 %\n",
      "The test accuracy is 80.0 %\n"
     ]
    }
   ],
   "source": [
    "n = 0.001 # learning rate (best possible from trial and eror)\n",
    "epochs = 10000\n",
    "w = np.ones(shape=(X_bias.shape[1], 1)) * np.random.random() # random weight initialization\n",
    "\n",
    "A = [mean_squared_error_sigmoid(X_train, y_train, w)] # vector with error\n",
    "\n",
    "# loop through all the train set\n",
    "for j in range(0, epochs):\n",
    "    for i in range(0, len(X_train)):\n",
    "        net = np.dot(X_train[i], w)\n",
    "        net = sigmoid(net)\n",
    "\n",
    "        delta_w = n * (y_train[i] - net) * X_train[i]\n",
    "        w = w + delta_w.reshape((len(w), 1))\n",
    "    A.append(mean_squared_error_sigmoid(X_train, y_train, w))\n",
    "\n",
    "accuracy(X_train, X_test, y_train, y_test, w)"
   ]
  },
  {
   "cell_type": "code",
   "execution_count": 26,
   "metadata": {},
   "outputs": [
    {
     "data": {
      "image/png": "[encoded data removed]",
      "text/plain": [
       "<Figure size 432x288 with 1 Axes>"
      ]
     },
     "metadata": {
      "needs_background": "light"
     },
     "output_type": "display_data"
    }
   ],
   "source": [
    "plt.plot(A)\n",
    "plt.title(f\"Squared Error and Sigmoid Unit \\n Learning rate: {n}\")\n",
    "plt.xlabel('Epochs')\n",
    "plt.ylabel('Squared Error')\n",
    "plt.show()"
   ]
  },
  {
   "cell_type": "markdown",
   "metadata": {},
   "source": [
    "### iii) Cross-Entropy and sigmoid unit (Logistic Regression)"
   ]
  },
  {
   "cell_type": "code",
   "execution_count": 27,
   "metadata": {},
   "outputs": [],
   "source": [
    "def sigmoid(net):\n",
    "    return np.e**net / (1 + np.e**(net))"
   ]
  },
  {
   "cell_type": "code",
   "execution_count": 28,
   "metadata": {},
   "outputs": [],
   "source": [
    "def cross_entropy_error(X, y, w):\n",
    "    A = 0\n",
    "    for i in range(0, len(X)):\n",
    "        o = sigmoid(np.dot(X[i], w)[0])\n",
    "        A = A + y[i] * np.log(o) + (1 - y[i]) * np.log(1 - o)\n",
    "    return (- A)"
   ]
  },
  {
   "cell_type": "code",
   "execution_count": 29,
   "metadata": {},
   "outputs": [
    {
     "name": "stdout",
     "output_type": "stream",
     "text": [
      "The training accuracy is 76.6667 %\n",
      "The test accuracy is 73.3333 %\n"
     ]
    }
   ],
   "source": [
    "n = 0.001 # learning rate (best possible from trial and eror)\n",
    "epochs = 10000\n",
    "w = np.ones(shape=(X_bias.shape[1], 1)) * np.random.random() # random weight initialization\n",
    "\n",
    "A = [cross_entropy_error(X_train, y_train, w)] # vector with error\n",
    "\n",
    "# loop through all the train set\n",
    "for j in range(0, epochs):\n",
    "    for i in range(0, len(X_train)):\n",
    "        net = np.dot(X_train[i], w)[0]\n",
    "        net = sigmoid(net)\n",
    "\n",
    "        delta_w = n * (y_train[i] - net) * X_train[i]\n",
    "        w = w + delta_w.reshape((len(w), 1))\n",
    "    A.append(cross_entropy_error(X_train, y_train, w))\n",
    "\n",
    "accuracy(X_train, X_test, y_train, y_test, w)"
   ]
  },
  {
   "cell_type": "code",
   "execution_count": 30,
   "metadata": {
    "scrolled": true
   },
   "outputs": [
    {
     "data": {
      "image/png": "[encoded data removed]",
      "text/plain": [
       "<Figure size 432x288 with 1 Axes>"
      ]
     },
     "metadata": {
      "needs_background": "light"
     },
     "output_type": "display_data"
    }
   ],
   "source": [
    "# Plot \n",
    "plt.plot(A)\n",
    "plt.title(f\"Cross Entropy and Sigmoid Unit \\n Learning rate: {n}\")\n",
    "plt.xlabel('Epoch')\n",
    "plt.ylabel('Cross Entropy')\n",
    "plt.show()"
   ]
  },
  {
   "cell_type": "code",
   "execution_count": null,
   "metadata": {},
   "outputs": [],
   "source": []
  }
 ],
 "metadata": {
  "kernelspec": {
   "display_name": "Python 3",
   "language": "python",
   "name": "python3"
  },
  "language_info": {
   "codemirror_mode": {
    "name": "ipython",
    "version": 3
   },
   "file_extension": ".py",
   "mimetype": "text/x-python",
   "name": "python",
   "nbconvert_exporter": "python",
   "pygments_lexer": "ipython3",
   "version": "3.7.9"
  }
 },
 "nbformat": 4,
 "nbformat_minor": 4
}
