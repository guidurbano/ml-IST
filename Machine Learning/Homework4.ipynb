{
 "cells": [
  {
   "cell_type": "code",
   "execution_count": 1,
   "metadata": {},
   "outputs": [],
   "source": [
    "import numpy as np\n",
    "from scipy.stats import multivariate_normal\n",
    "import matplotlib.pyplot as plt\n",
    "from sklearn.cluster import KMeans"
   ]
  },
  {
   "cell_type": "markdown",
   "metadata": {},
   "source": [
    "# I) Clustering - Expectation Maximization"
   ]
  },
  {
   "cell_type": "code",
   "execution_count": 2,
   "metadata": {
    "scrolled": true
   },
   "outputs": [
    {
     "name": "stdout",
     "output_type": "stream",
     "text": [
      "------------------------------------------\n",
      "\t\t 1° Epoch\n",
      "---------------- E-Step ------------------\n",
      "For point 0:\n",
      "For C = 0:\n",
      "\t Likelihood: 9.6532e-02\n",
      "\t Joint Probability: 4.8266e-02\n",
      "\n",
      "For C = 1:\n",
      "\t Likelihood: 1.3064e-02\n",
      "\t Joint Probability: 6.5321e-03\n",
      "\n",
      "Normalized Posterior for C = 0: 8.8080e-01\n",
      "Normalized Posterior for C = 1: 1.1920e-01\n",
      "------------------------------------------\n",
      "For point 1:\n",
      "For C = 0:\n",
      "\t Likelihood: 1.5915e-01\n",
      "\t Joint Probability: 7.9577e-02\n",
      "\n",
      "For C = 1:\n",
      "\t Likelihood: 5.8550e-02\n",
      "\t Joint Probability: 2.9275e-02\n",
      "\n",
      "Normalized Posterior for C = 0: 7.3106e-01\n",
      "Normalized Posterior for C = 1: 2.6894e-01\n",
      "------------------------------------------\n",
      "For point 2:\n",
      "For C = 0:\n",
      "\t Likelihood: 5.8550e-02\n",
      "\t Joint Probability: 2.9275e-02\n",
      "\n",
      "For C = 1:\n",
      "\t Likelihood: 1.5915e-01\n",
      "\t Joint Probability: 7.9577e-02\n",
      "\n",
      "Normalized Posterior for C = 0: 2.6894e-01\n",
      "Normalized Posterior for C = 1: 7.3106e-01\n",
      "------------------------------------------\n",
      "\n",
      "\n",
      "---------------- M-Step -------------\n",
      "New means are: [array([1.32531721, 0.14299332]), array([0.45331124, 0.65319574])]\n",
      "New cov are: [array([[ 0.50547257, -0.18951151],\n",
      "       [-0.18951151,  0.12254623]]), array([[ 0.46083412, -0.29610097],\n",
      "       [-0.29610097,  0.22653107]])]\n",
      "For point 0:\n",
      "For C = 0:\n",
      "\t Likelihood: 5.5918e-01\n",
      "For C = 1:\n",
      "\t Likelihood: 1.8560e-02\n",
      "For point 1:\n",
      "For C = 0:\n",
      "\t Likelihood: 4.4935e-01\n",
      "For C = 1:\n",
      "\t Likelihood: 2.5335e-01\n",
      "For point 2:\n",
      "For C = 0:\n",
      "\t Likelihood: 4.9278e-02\n",
      "For C = 1:\n",
      "\t Likelihood: 9.4394e-01\n",
      "New Prior is: [0.62693236 0.37306764]\n",
      "------------------------------------------\n",
      "\t\t 2° Epoch\n",
      "---------------- E-Step ------------------\n",
      "For point 0:\n",
      "For C = 0:\n",
      "\t Likelihood: 5.5918e-01\n",
      "\t Joint Probability: 3.5057e-01\n",
      "\n",
      "For C = 1:\n",
      "\t Likelihood: 1.8560e-02\n",
      "\t Joint Probability: 6.9241e-03\n",
      "\n",
      "Normalized Posterior for C = 0: 9.8063e-01\n",
      "Normalized Posterior for C = 1: 1.9368e-02\n",
      "------------------------------------------\n",
      "For point 1:\n",
      "For C = 0:\n",
      "\t Likelihood: 4.4935e-01\n",
      "\t Joint Probability: 2.8171e-01\n",
      "\n",
      "For C = 1:\n",
      "\t Likelihood: 2.5335e-01\n",
      "\t Joint Probability: 9.4517e-02\n",
      "\n",
      "Normalized Posterior for C = 0: 7.4878e-01\n",
      "Normalized Posterior for C = 1: 2.5122e-01\n",
      "------------------------------------------\n",
      "For point 2:\n",
      "For C = 0:\n",
      "\t Likelihood: 4.9278e-02\n",
      "\t Joint Probability: 3.0894e-02\n",
      "\n",
      "For C = 1:\n",
      "\t Likelihood: 9.4394e-01\n",
      "\t Joint Probability: 3.5215e-01\n",
      "\n",
      "Normalized Posterior for C = 0: 8.0653e-02\n",
      "Normalized Posterior for C = 1: 9.1935e-01\n",
      "------------------------------------------\n",
      "\n",
      "\n",
      "---------------- M-Step -------------\n",
      "New means are: [array([1.49720845, 0.04455836]), array([0.24367615, 0.77260061])]\n",
      "New cov are: [array([[ 0.33910892, -0.06671315],\n",
      "       [-0.06671315,  0.04257291]]), array([[ 0.2168516 , -0.18826434],\n",
      "       [-0.18826434,  0.17568891]])]\n",
      "For point 0:\n",
      "For C = 0:\n",
      "\t Likelihood: 1.0434e+00\n",
      "For C = 1:\n",
      "\t Likelihood: 2.3227e-13\n",
      "For point 1:\n",
      "For C = 0:\n",
      "\t Likelihood: 7.8405e-01\n",
      "For C = 1:\n",
      "\t Likelihood: 4.7687e-01\n",
      "For point 2:\n",
      "For C = 0:\n",
      "\t Likelihood: 3.5152e-05\n",
      "For C = 1:\n",
      "\t Likelihood: 2.6661e+00\n",
      "New Prior is: [0.6033541 0.3966459]\n"
     ]
    }
   ],
   "source": [
    "# Data\n",
    "X = np.array([[2, 0], [1, 0], [0, 1]])\n",
    "\n",
    "# Number of clusters\n",
    "K = 2\n",
    "\n",
    "# Means\n",
    "mi = np.array([[1, 0], [0, 1]])\n",
    "\n",
    "# Covariances\n",
    "cov = np.array([[[1, 0], [0, 1]], [[1, 0], [0, 1]]])\n",
    "\n",
    "# Prior probability\n",
    "pi = [0.5, 0.5]\n",
    "\n",
    "# Epochs\n",
    "epochs = 2\n",
    "\n",
    "###########################################################\n",
    "\n",
    "for epoch in range(0, epochs):\n",
    "    print('------------------------------------------')\n",
    "    print(f'\\t\\t {epoch+1}° Epoch')\n",
    "\n",
    "    # E-STEP\n",
    "    print('---------------- E-Step ------------------')\n",
    "    list_likelihood = []\n",
    "    list_joint_prob = []\n",
    "    list_norm_posterior = []\n",
    "\n",
    "    for i in range(0, len(X)): # Para cada exemplo\n",
    "        print(f'For point {i}:')\n",
    "\n",
    "        list_likelihood_i = []\n",
    "        list_joint_prob_i = []\n",
    "        list_norm_posterior_i = []\n",
    "\n",
    "        for k in range(0, K): # Para cada cluster\n",
    "            likelihood = multivariate_normal.pdf(X[i], mean = mi[k], cov = cov[k], allow_singular=True) # sci.norm(df.mean()[i], df.std(ddof=0)[i]).pdf(x[i])\n",
    "\n",
    "            print(f'For C = {k}:')\n",
    "\n",
    "            print(f\"\\t Likelihood: {'{:.4e}'.format(likelihood)}\")\n",
    "            list_likelihood_i.append(likelihood)\n",
    "\n",
    "            joint_prob = likelihood * pi[k]\n",
    "            print(f\"\\t Joint Probability: {'{:.4e}'.format(joint_prob)}\\n\")\n",
    "            list_joint_prob_i.append(joint_prob)\n",
    "\n",
    "        list_likelihood.append(list_likelihood_i)\n",
    "        list_joint_prob.append(list_joint_prob_i)\n",
    "\n",
    "\n",
    "        for k in range(0, K):\n",
    "            norm_posterior = list_joint_prob[i][k] / np.sum(list_joint_prob[i])\n",
    "            print(f\"Normalized Posterior for C = {k}: {'{:.4e}'.format(norm_posterior)}\")\n",
    "\n",
    "            list_norm_posterior_i.append(norm_posterior)\n",
    "        list_norm_posterior.append(list_norm_posterior_i)\n",
    "        print('------------------------------------------')\n",
    "\n",
    "    # M-STEP\n",
    "    print('\\n')\n",
    "    print('---------------- M-Step -------------')\n",
    "\n",
    "    # New means\n",
    "    mi = [np.average(X, weights=np.array(list_norm_posterior).T[k], axis=0) for k in range(0, K)]\n",
    "    print(f'New means are: {mi}')\n",
    "\n",
    "    # New covariances\n",
    "    cov = [np.cov(X, rowvar =False, bias=True, aweights=np.array(list_norm_posterior).T[k]) for k in range(0, K)]\n",
    "    print(f'New cov are: {cov}')\n",
    "\n",
    "    # New likelihoods\n",
    "    list_likelihood = []\n",
    "\n",
    "    for i in range(0, len(X)): # Para cada exemplo\n",
    "        print(f'For point {i}:')\n",
    "\n",
    "        list_likelihood_i = []\n",
    "\n",
    "        for k in range(0, K): # Para cada cluster\n",
    "            likelihood = multivariate_normal.pdf(X[i], mean = mi[k], cov = cov[k], allow_singular=True)\n",
    "\n",
    "            print(f'For C = {k}:')\n",
    "\n",
    "            print(f\"\\t Likelihood: {'{:.4e}'.format(likelihood)}\")\n",
    "            list_likelihood_i.append(likelihood)\n",
    "\n",
    "        list_likelihood.append(list_likelihood_i)\n",
    "\n",
    "    # New Priors\n",
    "    pi = np.sum(list_norm_posterior, axis=0) / np.sum(np.sum(list_norm_posterior))\n",
    "    print(f'New Prior is: {pi}')"
   ]
  },
  {
   "cell_type": "markdown",
   "metadata": {},
   "source": [
    "## RBF netwoork with Kmeans"
   ]
  },
  {
   "attachments": {
    "image.png": {
     "image/png": "[encoded data removed]"
    }
   },
   "cell_type": "markdown",
   "metadata": {},
   "source": [
    "![image.png](attachment:image.png)"
   ]
  },
  {
   "cell_type": "code",
   "execution_count": 111,
   "metadata": {},
   "outputs": [],
   "source": [
    "# Data\n",
    "X = np.array([[1, 0, 0], [3, 0, 0], [0, 0, 1]])\n",
    "t = np.array([1, 1, -1])"
   ]
  },
  {
   "cell_type": "code",
   "execution_count": 112,
   "metadata": {},
   "outputs": [],
   "source": [
    "# Cluster centers initialized\n",
    "C = np.array([[1, 0, 0], [0, 0, 1.1]])\n",
    "sigma = 1"
   ]
  },
  {
   "cell_type": "code",
   "execution_count": 113,
   "metadata": {
    "scrolled": false
   },
   "outputs": [
    {
     "ename": "ValueError",
     "evalue": "'c' argument has 4 elements, which is inconsistent with 'x' and 'y' with size 2.",
     "output_type": "error",
     "traceback": [
      "\u001b[1;31m---------------------------------------------------------------------------\u001b[0m",
      "\u001b[1;31mValueError\u001b[0m                                Traceback (most recent call last)",
      "\u001b[1;32m<ipython-input-113-686c9e43996a>\u001b[0m in \u001b[0;36m<module>\u001b[1;34m\u001b[0m\n\u001b[0;32m      1\u001b[0m \u001b[1;31m# First we look determine the cluster centers of k-Means by drawing the values in 2 dim coordinate system\u001b[0m\u001b[1;33m\u001b[0m\u001b[1;33m\u001b[0m\u001b[1;33m\u001b[0m\u001b[0m\n\u001b[1;32m----> 2\u001b[1;33m \u001b[0mplt\u001b[0m\u001b[1;33m.\u001b[0m\u001b[0mscatter\u001b[0m\u001b[1;33m(\u001b[0m\u001b[0mC\u001b[0m\u001b[1;33m.\u001b[0m\u001b[0mT\u001b[0m\u001b[1;33m[\u001b[0m\u001b[1;36m0\u001b[0m\u001b[1;33m]\u001b[0m\u001b[1;33m,\u001b[0m \u001b[0mC\u001b[0m\u001b[1;33m.\u001b[0m\u001b[0mT\u001b[0m\u001b[1;33m[\u001b[0m\u001b[1;36m1\u001b[0m\u001b[1;33m]\u001b[0m\u001b[1;33m,\u001b[0m \u001b[0mcolor\u001b[0m\u001b[1;33m=\u001b[0m\u001b[1;33m[\u001b[0m\u001b[1;34m'g'\u001b[0m\u001b[1;33m,\u001b[0m \u001b[1;34m'b'\u001b[0m\u001b[1;33m,\u001b[0m \u001b[1;34m'r'\u001b[0m\u001b[1;33m,\u001b[0m \u001b[1;34m'black'\u001b[0m\u001b[1;33m]\u001b[0m\u001b[1;33m,\u001b[0m \u001b[0mmarker\u001b[0m \u001b[1;33m=\u001b[0m \u001b[1;34m'o'\u001b[0m\u001b[1;33m,\u001b[0m \u001b[0ms\u001b[0m\u001b[1;33m=\u001b[0m\u001b[1;36m80\u001b[0m\u001b[1;33m)\u001b[0m\u001b[1;33m\u001b[0m\u001b[1;33m\u001b[0m\u001b[0m\n\u001b[0m\u001b[0;32m      3\u001b[0m \u001b[0mplt\u001b[0m\u001b[1;33m.\u001b[0m\u001b[0mscatter\u001b[0m\u001b[1;33m(\u001b[0m\u001b[0mX\u001b[0m\u001b[1;33m.\u001b[0m\u001b[0mT\u001b[0m\u001b[1;33m[\u001b[0m\u001b[1;36m0\u001b[0m\u001b[1;33m]\u001b[0m\u001b[1;33m[\u001b[0m\u001b[1;36m4\u001b[0m\u001b[1;33m]\u001b[0m\u001b[1;33m,\u001b[0m \u001b[0mX\u001b[0m\u001b[1;33m.\u001b[0m\u001b[0mT\u001b[0m\u001b[1;33m[\u001b[0m\u001b[1;36m1\u001b[0m\u001b[1;33m]\u001b[0m\u001b[1;33m[\u001b[0m\u001b[1;36m4\u001b[0m\u001b[1;33m]\u001b[0m\u001b[1;33m,\u001b[0m \u001b[0mcolor\u001b[0m\u001b[1;33m=\u001b[0m\u001b[1;34m'black'\u001b[0m\u001b[1;33m,\u001b[0m \u001b[0mmarker\u001b[0m \u001b[1;33m=\u001b[0m \u001b[1;34m'o'\u001b[0m\u001b[1;33m,\u001b[0m \u001b[0ms\u001b[0m\u001b[1;33m=\u001b[0m\u001b[1;36m80\u001b[0m\u001b[1;33m)\u001b[0m\u001b[1;33m\u001b[0m\u001b[1;33m\u001b[0m\u001b[0m\n\u001b[0;32m      4\u001b[0m \u001b[0mplt\u001b[0m\u001b[1;33m.\u001b[0m\u001b[0mscatter\u001b[0m\u001b[1;33m(\u001b[0m\u001b[0mX\u001b[0m\u001b[1;33m.\u001b[0m\u001b[0mT\u001b[0m\u001b[1;33m[\u001b[0m\u001b[1;36m0\u001b[0m\u001b[1;33m]\u001b[0m\u001b[1;33m[\u001b[0m\u001b[1;36m5\u001b[0m\u001b[1;33m]\u001b[0m\u001b[1;33m,\u001b[0m \u001b[0mX\u001b[0m\u001b[1;33m.\u001b[0m\u001b[0mT\u001b[0m\u001b[1;33m[\u001b[0m\u001b[1;36m1\u001b[0m\u001b[1;33m]\u001b[0m\u001b[1;33m[\u001b[0m\u001b[1;36m5\u001b[0m\u001b[1;33m]\u001b[0m\u001b[1;33m,\u001b[0m \u001b[0mcolor\u001b[0m\u001b[1;33m=\u001b[0m\u001b[1;34m'g'\u001b[0m\u001b[1;33m,\u001b[0m \u001b[0mmarker\u001b[0m \u001b[1;33m=\u001b[0m \u001b[1;34m'o'\u001b[0m\u001b[1;33m,\u001b[0m \u001b[0ms\u001b[0m\u001b[1;33m=\u001b[0m\u001b[1;36m80\u001b[0m\u001b[1;33m)\u001b[0m\u001b[1;33m\u001b[0m\u001b[1;33m\u001b[0m\u001b[0m\n\u001b[0;32m      5\u001b[0m \u001b[0mplt\u001b[0m\u001b[1;33m.\u001b[0m\u001b[0mxlabel\u001b[0m\u001b[1;33m(\u001b[0m\u001b[1;34m'X'\u001b[0m\u001b[1;33m)\u001b[0m\u001b[1;33m\u001b[0m\u001b[1;33m\u001b[0m\u001b[0m\n",
      "\u001b[1;32m~\\anaconda3\\lib\\site-packages\\matplotlib\\pyplot.py\u001b[0m in \u001b[0;36mscatter\u001b[1;34m(x, y, s, c, marker, cmap, norm, vmin, vmax, alpha, linewidths, verts, edgecolors, plotnonfinite, data, **kwargs)\u001b[0m\n\u001b[0;32m   2877\u001b[0m         \u001b[0mverts\u001b[0m\u001b[1;33m=\u001b[0m\u001b[0mverts\u001b[0m\u001b[1;33m,\u001b[0m \u001b[0medgecolors\u001b[0m\u001b[1;33m=\u001b[0m\u001b[0medgecolors\u001b[0m\u001b[1;33m,\u001b[0m\u001b[1;33m\u001b[0m\u001b[1;33m\u001b[0m\u001b[0m\n\u001b[0;32m   2878\u001b[0m         \u001b[0mplotnonfinite\u001b[0m\u001b[1;33m=\u001b[0m\u001b[0mplotnonfinite\u001b[0m\u001b[1;33m,\u001b[0m\u001b[1;33m\u001b[0m\u001b[1;33m\u001b[0m\u001b[0m\n\u001b[1;32m-> 2879\u001b[1;33m         **({\"data\": data} if data is not None else {}), **kwargs)\n\u001b[0m\u001b[0;32m   2880\u001b[0m     \u001b[0msci\u001b[0m\u001b[1;33m(\u001b[0m\u001b[0m__ret\u001b[0m\u001b[1;33m)\u001b[0m\u001b[1;33m\u001b[0m\u001b[1;33m\u001b[0m\u001b[0m\n\u001b[0;32m   2881\u001b[0m     \u001b[1;32mreturn\u001b[0m \u001b[0m__ret\u001b[0m\u001b[1;33m\u001b[0m\u001b[1;33m\u001b[0m\u001b[0m\n",
      "\u001b[1;32m~\\anaconda3\\lib\\site-packages\\matplotlib\\__init__.py\u001b[0m in \u001b[0;36minner\u001b[1;34m(ax, data, *args, **kwargs)\u001b[0m\n\u001b[0;32m   1436\u001b[0m     \u001b[1;32mdef\u001b[0m \u001b[0minner\u001b[0m\u001b[1;33m(\u001b[0m\u001b[0max\u001b[0m\u001b[1;33m,\u001b[0m \u001b[1;33m*\u001b[0m\u001b[0margs\u001b[0m\u001b[1;33m,\u001b[0m \u001b[0mdata\u001b[0m\u001b[1;33m=\u001b[0m\u001b[1;32mNone\u001b[0m\u001b[1;33m,\u001b[0m \u001b[1;33m**\u001b[0m\u001b[0mkwargs\u001b[0m\u001b[1;33m)\u001b[0m\u001b[1;33m:\u001b[0m\u001b[1;33m\u001b[0m\u001b[1;33m\u001b[0m\u001b[0m\n\u001b[0;32m   1437\u001b[0m         \u001b[1;32mif\u001b[0m \u001b[0mdata\u001b[0m \u001b[1;32mis\u001b[0m \u001b[1;32mNone\u001b[0m\u001b[1;33m:\u001b[0m\u001b[1;33m\u001b[0m\u001b[1;33m\u001b[0m\u001b[0m\n\u001b[1;32m-> 1438\u001b[1;33m             \u001b[1;32mreturn\u001b[0m \u001b[0mfunc\u001b[0m\u001b[1;33m(\u001b[0m\u001b[0max\u001b[0m\u001b[1;33m,\u001b[0m \u001b[1;33m*\u001b[0m\u001b[0mmap\u001b[0m\u001b[1;33m(\u001b[0m\u001b[0msanitize_sequence\u001b[0m\u001b[1;33m,\u001b[0m \u001b[0margs\u001b[0m\u001b[1;33m)\u001b[0m\u001b[1;33m,\u001b[0m \u001b[1;33m**\u001b[0m\u001b[0mkwargs\u001b[0m\u001b[1;33m)\u001b[0m\u001b[1;33m\u001b[0m\u001b[1;33m\u001b[0m\u001b[0m\n\u001b[0m\u001b[0;32m   1439\u001b[0m \u001b[1;33m\u001b[0m\u001b[0m\n\u001b[0;32m   1440\u001b[0m         \u001b[0mbound\u001b[0m \u001b[1;33m=\u001b[0m \u001b[0mnew_sig\u001b[0m\u001b[1;33m.\u001b[0m\u001b[0mbind\u001b[0m\u001b[1;33m(\u001b[0m\u001b[0max\u001b[0m\u001b[1;33m,\u001b[0m \u001b[1;33m*\u001b[0m\u001b[0margs\u001b[0m\u001b[1;33m,\u001b[0m \u001b[1;33m**\u001b[0m\u001b[0mkwargs\u001b[0m\u001b[1;33m)\u001b[0m\u001b[1;33m\u001b[0m\u001b[1;33m\u001b[0m\u001b[0m\n",
      "\u001b[1;32m~\\anaconda3\\lib\\site-packages\\matplotlib\\cbook\\deprecation.py\u001b[0m in \u001b[0;36mwrapper\u001b[1;34m(*inner_args, **inner_kwargs)\u001b[0m\n\u001b[0;32m    409\u001b[0m                          \u001b[1;32melse\u001b[0m \u001b[0mdeprecation_addendum\u001b[0m\u001b[1;33m,\u001b[0m\u001b[1;33m\u001b[0m\u001b[1;33m\u001b[0m\u001b[0m\n\u001b[0;32m    410\u001b[0m                 **kwargs)\n\u001b[1;32m--> 411\u001b[1;33m         \u001b[1;32mreturn\u001b[0m \u001b[0mfunc\u001b[0m\u001b[1;33m(\u001b[0m\u001b[1;33m*\u001b[0m\u001b[0minner_args\u001b[0m\u001b[1;33m,\u001b[0m \u001b[1;33m**\u001b[0m\u001b[0minner_kwargs\u001b[0m\u001b[1;33m)\u001b[0m\u001b[1;33m\u001b[0m\u001b[1;33m\u001b[0m\u001b[0m\n\u001b[0m\u001b[0;32m    412\u001b[0m \u001b[1;33m\u001b[0m\u001b[0m\n\u001b[0;32m    413\u001b[0m     \u001b[1;32mreturn\u001b[0m \u001b[0mwrapper\u001b[0m\u001b[1;33m\u001b[0m\u001b[1;33m\u001b[0m\u001b[0m\n",
      "\u001b[1;32m~\\anaconda3\\lib\\site-packages\\matplotlib\\axes\\_axes.py\u001b[0m in \u001b[0;36mscatter\u001b[1;34m(self, x, y, s, c, marker, cmap, norm, vmin, vmax, alpha, linewidths, verts, edgecolors, plotnonfinite, **kwargs)\u001b[0m\n\u001b[0;32m   4451\u001b[0m             self._parse_scatter_color_args(\n\u001b[0;32m   4452\u001b[0m                 \u001b[0mc\u001b[0m\u001b[1;33m,\u001b[0m \u001b[0medgecolors\u001b[0m\u001b[1;33m,\u001b[0m \u001b[0mkwargs\u001b[0m\u001b[1;33m,\u001b[0m \u001b[0mx\u001b[0m\u001b[1;33m.\u001b[0m\u001b[0msize\u001b[0m\u001b[1;33m,\u001b[0m\u001b[1;33m\u001b[0m\u001b[1;33m\u001b[0m\u001b[0m\n\u001b[1;32m-> 4453\u001b[1;33m                 get_next_color_func=self._get_patches_for_fill.get_next_color)\n\u001b[0m\u001b[0;32m   4454\u001b[0m \u001b[1;33m\u001b[0m\u001b[0m\n\u001b[0;32m   4455\u001b[0m         \u001b[1;32mif\u001b[0m \u001b[0mplotnonfinite\u001b[0m \u001b[1;32mand\u001b[0m \u001b[0mcolors\u001b[0m \u001b[1;32mis\u001b[0m \u001b[1;32mNone\u001b[0m\u001b[1;33m:\u001b[0m\u001b[1;33m\u001b[0m\u001b[1;33m\u001b[0m\u001b[0m\n",
      "\u001b[1;32m~\\anaconda3\\lib\\site-packages\\matplotlib\\axes\\_axes.py\u001b[0m in \u001b[0;36m_parse_scatter_color_args\u001b[1;34m(c, edgecolors, kwargs, xsize, get_next_color_func)\u001b[0m\n\u001b[0;32m   4305\u001b[0m                     \u001b[1;31m# NB: remember that a single color is also acceptable.\u001b[0m\u001b[1;33m\u001b[0m\u001b[1;33m\u001b[0m\u001b[1;33m\u001b[0m\u001b[0m\n\u001b[0;32m   4306\u001b[0m                     \u001b[1;31m# Besides *colors* will be an empty array if c == 'none'.\u001b[0m\u001b[1;33m\u001b[0m\u001b[1;33m\u001b[0m\u001b[1;33m\u001b[0m\u001b[0m\n\u001b[1;32m-> 4307\u001b[1;33m                     \u001b[1;32mraise\u001b[0m \u001b[0minvalid_shape_exception\u001b[0m\u001b[1;33m(\u001b[0m\u001b[0mlen\u001b[0m\u001b[1;33m(\u001b[0m\u001b[0mcolors\u001b[0m\u001b[1;33m)\u001b[0m\u001b[1;33m,\u001b[0m \u001b[0mxsize\u001b[0m\u001b[1;33m)\u001b[0m\u001b[1;33m\u001b[0m\u001b[1;33m\u001b[0m\u001b[0m\n\u001b[0m\u001b[0;32m   4308\u001b[0m         \u001b[1;32melse\u001b[0m\u001b[1;33m:\u001b[0m\u001b[1;33m\u001b[0m\u001b[1;33m\u001b[0m\u001b[0m\n\u001b[0;32m   4309\u001b[0m             \u001b[0mcolors\u001b[0m \u001b[1;33m=\u001b[0m \u001b[1;32mNone\u001b[0m  \u001b[1;31m# use cmap, norm after collection is created\u001b[0m\u001b[1;33m\u001b[0m\u001b[1;33m\u001b[0m\u001b[0m\n",
      "\u001b[1;31mValueError\u001b[0m: 'c' argument has 4 elements, which is inconsistent with 'x' and 'y' with size 2."
     ]
    },
    {
     "data": {
      "image/png": "[encoded data removed]",
      "text/plain": [
       "<Figure size 432x288 with 1 Axes>"
      ]
     },
     "metadata": {
      "needs_background": "light"
     },
     "output_type": "display_data"
    }
   ],
   "source": [
    "# First we look determine the cluster centers of k-Means by drawing the values in 2 dim coordinate system\n",
    "plt.scatter(C.T[0], C.T[1], color=['g', 'b', 'r', 'black'], marker = 'o', s=80)\n",
    "plt.scatter(X.T[0][4], X.T[1][4], color='black', marker = 'o', s=80)\n",
    "plt.scatter(X.T[0][5], X.T[1][5], color='g', marker = 'o', s=80)\n",
    "plt.xlabel('X')\n",
    "plt.ylabel('Y')\n",
    "plt.show()"
   ]
  },
  {
   "cell_type": "code",
   "execution_count": 114,
   "metadata": {},
   "outputs": [
    {
     "name": "stdout",
     "output_type": "stream",
     "text": [
      "Clusters are given by: \n",
      " [[2. 0. 0.]\n",
      " [0. 0. 1.]]\n",
      "The point [1 0 0] belongs to cluster number 0\n",
      "The point [3 0 0] belongs to cluster number 0\n",
      "The point [0 0 1] belongs to cluster number 1\n"
     ]
    }
   ],
   "source": [
    "# Kmeans algorithm to find cluster centers\n",
    "kmeans = KMeans(n_clusters=len(C), init=C, random_state=42, n_init=1)\n",
    "kmeans.fit(X)\n",
    "C_new = kmeans.cluster_centers_\n",
    "print(f'Clusters are given by: \\n {C_new }')\n",
    "\n",
    "for i in range(0, len(X)):\n",
    "    print(f'The point {X[i]} belongs to cluster number {kmeans.labels_[i]}') "
   ]
  },
  {
   "cell_type": "code",
   "execution_count": 7,
   "metadata": {},
   "outputs": [
    {
     "data": {
      "image/png": "[encoded data removed]",
      "text/plain": [
       "<Figure size 432x288 with 1 Axes>"
      ]
     },
     "metadata": {
      "needs_background": "light"
     },
     "output_type": "display_data"
    }
   ],
   "source": [
    "# First we look determine the cluster centers of k-Means by drawing the values in 2 dim coordinate system\n",
    "plt.scatter(C_new.T[0], C_new.T[1], color=['g', 'b', 'r', 'black'], marker = '*', s=80)\n",
    "plt.scatter(X.T[0], X.T[1], color=['g', 'b', 'r', 'black', 'black', 'g'], marker = 'o', s=80)\n",
    "plt.xlabel('X')\n",
    "plt.ylabel('Y')\n",
    "plt.show()"
   ]
  },
  {
   "cell_type": "code",
   "execution_count": 118,
   "metadata": {
    "scrolled": false
   },
   "outputs": [
    {
     "name": "stdout",
     "output_type": "stream",
     "text": [
      "Parameters of the RBF network (including BIAS):\n",
      "[[1.         0.60653066 0.36787944]\n",
      " [1.         0.60653066 0.00673795]\n",
      " [1.         0.082085   1.        ]]\n",
      "\n",
      "\n",
      "1° epoch:\n",
      "Net for x_1 is: 1.9744101008840755\n",
      "[1. 1. 1.]\n",
      "Net for x_2 is: 1.6132686067117188\n",
      "[1. 1. 1.]\n",
      "Net for x_3 is: 2.0820849986238987\n",
      "[-1.       0.83583 -1.     ]\n",
      "\n",
      "\n",
      "2° epoch:\n",
      "Net for x_1 is: -0.8609229181945366\n",
      "[ 1.          2.04889132 -0.26424112]\n",
      "Net for x_2 is: 2.2409349626740376\n",
      "[ 1.          2.04889132 -0.26424112]\n",
      "Net for x_3 is: 0.9039421237043401\n",
      "[-1.          1.88472132 -2.26424112]\n",
      "\n",
      "\n",
      "3° epoch:\n",
      "Net for x_1 is: -0.6898264884570389\n",
      "[ 1.          3.09778264 -1.52848224]\n",
      "Net for x_2 is: 2.8686013186363564\n",
      "[ 1.          3.09778264 -1.52848224]\n",
      "Net for x_3 is: -0.27420075121521825\n",
      "[ 1.          3.09778264 -1.52848224]\n",
      "\n",
      "\n",
      "4° epoch:\n",
      "Net for x_1 is: 2.316602960359071\n",
      "[ 1.          3.09778264 -1.52848224]\n",
      "Net for x_2 is: 2.8686013186363564\n",
      "[ 1.          3.09778264 -1.52848224]\n",
      "Net for x_3 is: -0.27420075121521825\n",
      "[ 1.          3.09778264 -1.52848224]\n",
      "\n",
      "\n"
     ]
    }
   ],
   "source": [
    "# RBF network with K-means\n",
    "w = np.ones(C_new.shape[0] + 1) # BIAS INCLUDED\n",
    "\n",
    "eta = 1 # learning rate\n",
    "\n",
    "epochs = 4 # number of epochs\n",
    "\n",
    "RBF_centers = []\n",
    "\n",
    "for i in range(0, len(X)):\n",
    "    RBF_centers_i = []\n",
    "\n",
    "    for j in range(0, len(C_new)):\n",
    "        RBF_centers_i.append(np.exp(- (np.linalg.norm(X[i] - C_new[j]))**2 / (2*sigma**2)))\n",
    "\n",
    "    RBF_centers.append(RBF_centers_i)\n",
    "\n",
    "RBF_centers = np.array(RBF_centers)\n",
    "\n",
    "RBF_centers = np.insert(RBF_centers, 0, 1, axis=1) # INCLUDE BIAS\n",
    "\n",
    "print(f'Parameters of the RBF network (including BIAS):')\n",
    "print(RBF_centers)\n",
    "print('\\n')\n",
    "\n",
    "for epoch in range(0, epochs):\n",
    "    print(f\"{epoch+1}° epoch:\")\n",
    "    for i in range(0, len(X)):\n",
    "        net = RBF_centers[i].dot(w)\n",
    "        #net = 1 / (1 + np.exp(-net))\n",
    "        print(f'Net for x_{i+1} is: {net}')\n",
    "        net = np.sign(net)\n",
    "        \n",
    "        delta_w = eta * (t[i] - net) * RBF_centers[i]\n",
    "        w = w + delta_w\n",
    "        print(w)\n",
    "    print('\\n')"
   ]
  },
  {
   "cell_type": "code",
   "execution_count": 9,
   "metadata": {
    "scrolled": true
   },
   "outputs": [
    {
     "data": {
      "text/plain": [
       "0.9210397849996868"
      ]
     },
     "execution_count": 9,
     "metadata": {},
     "output_type": "execute_result"
    }
   ],
   "source": [
    "# Query vector\n",
    "X_query = np.array([1, 1])\n",
    "t_query = 1\n",
    "\n",
    "RBF_centers_query = []\n",
    "\n",
    "for j in range(0, len(C_new)):\n",
    "    RBF_centers_query.append(np.exp(- (np.linalg.norm(X_query - C_new[j]))**2 / (2*sigma**2)))\n",
    "\n",
    "RBF_centers_query = np.array(RBF_centers_query)\n",
    "    \n",
    "RBF_centers_query = np.insert(RBF_centers_query, len(RBF_centers_query), 1)\n",
    "\n",
    "net = RBF_centers_query.dot(w)\n",
    "net = 1 / (1 + np.exp(-net))\n",
    "net"
   ]
  },
  {
   "cell_type": "markdown",
   "metadata": {},
   "source": [
    "# III) PCA"
   ]
  },
  {
   "cell_type": "markdown",
   "metadata": {},
   "source": [
    "The Karhunen-Loève transform is a linear transform that maps possibly correlated variables into a set of values of linearly\n",
    "uncorrelated variables. \n",
    "The KL transformation rotates the coordinate system so that the covariance matrix is diagonal.\n",
    "This transformation is defined in such a way that the first principal component has the largest possible variance."
   ]
  },
  {
   "cell_type": "code",
   "execution_count": 59,
   "metadata": {},
   "outputs": [],
   "source": [
    "data = np.array([[1, 1], [2, 2], [3, 6]])"
   ]
  },
  {
   "cell_type": "code",
   "execution_count": 60,
   "metadata": {},
   "outputs": [
    {
     "data": {
      "text/plain": [
       "array([[1. , 2.5],\n",
       "       [2.5, 7. ]])"
      ]
     },
     "execution_count": 60,
     "metadata": {},
     "output_type": "execute_result"
    }
   ],
   "source": [
    "cov_matrix = np.cov(data.T\n",
    "                    #, bias=True\n",
    "                   ) #### POPULATION COVARIANCE ###########\n",
    "cov_matrix"
   ]
  },
  {
   "cell_type": "code",
   "execution_count": 65,
   "metadata": {},
   "outputs": [
    {
     "name": "stdout",
     "output_type": "stream",
     "text": [
      "Characterist equation is: x^2 + -8.0x + 0.75 = 0\n"
     ]
    }
   ],
   "source": [
    "a = - cov_matrix[0][0] - cov_matrix[1][1]\n",
    "b = cov_matrix[0][0] * cov_matrix[1][1] - (cov_matrix[0][1] * cov_matrix[1][0])\n",
    "print(f'Characterist equation is: x^2 + {a}x + {b} = 0')"
   ]
  },
  {
   "cell_type": "code",
   "execution_count": 80,
   "metadata": {},
   "outputs": [
    {
     "name": "stdout",
     "output_type": "stream",
     "text": [
      "The eigenvalues are given by: \n",
      " [0.09487516 7.90512484]\n",
      "The eigenvectors are given by: \n",
      " [[-0.94027158 -0.34042526]\n",
      " [ 0.34042526 -0.94027158]]\n"
     ]
    }
   ],
   "source": [
    "# Solve the equation for lambda\n",
    "eigenvalues = np.linalg.eig(cov_matrix)[0]\n",
    "eigenvectors = np.linalg.eig(cov_matrix)[1]\n",
    "print(f'The eigenvalues are given by: \\n {eigenvalues}')\n",
    "print(f'The eigenvectors are given by: \\n {eigenvectors}') "
   ]
  },
  {
   "cell_type": "code",
   "execution_count": 85,
   "metadata": {
    "scrolled": true
   },
   "outputs": [
    {
     "data": {
      "text/plain": [
       "-2.5"
      ]
     },
     "execution_count": 85,
     "metadata": {},
     "output_type": "execute_result"
    }
   ],
   "source": [
    "((np.identity(len(data[0])) * eigenvalues[0]) - cov_matrix)[0][1]"
   ]
  },
  {
   "cell_type": "code",
   "execution_count": 86,
   "metadata": {
    "scrolled": true
   },
   "outputs": [
    {
     "data": {
      "text/plain": [
       "0.905124837953327"
      ]
     },
     "execution_count": 86,
     "metadata": {},
     "output_type": "execute_result"
    }
   ],
   "source": [
    "((np.identity(len(data[0])) * eigenvalues[1]) - cov_matrix)[1][1]"
   ]
  },
  {
   "cell_type": "code",
   "execution_count": 92,
   "metadata": {},
   "outputs": [
    {
     "name": "stdout",
     "output_type": "stream",
     "text": [
      "The eigenvector is: [1, -0.3620499351813309]\n"
     ]
    }
   ],
   "source": [
    "eig = [1]\n",
    "eig.append(((np.identity(len(data[0])) * eigenvalues[0]) - cov_matrix[0][1])[0][1] / -((np.identity(len(data[0])) * eigenvalues[0]) - cov_matrix[1][1])[1][1])\n",
    "print(f'The eigenvector is: {eig}')"
   ]
  },
  {
   "cell_type": "code",
   "execution_count": 93,
   "metadata": {},
   "outputs": [
    {
     "name": "stdout",
     "output_type": "stream",
     "text": [
      "The eigenvector is: [1, 2.7620499351813317]\n"
     ]
    }
   ],
   "source": [
    "eig = [1]\n",
    "eig.append(((np.identity(len(data[0])) * eigenvalues[1]) - cov_matrix[0][1])[0][1] / -((np.identity(len(data[0])) * eigenvalues[1]) - cov_matrix[1][1])[1][1])\n",
    "print(f'The eigenvector is: {eig}')"
   ]
  },
  {
   "cell_type": "code",
   "execution_count": 97,
   "metadata": {},
   "outputs": [
    {
     "name": "stdout",
     "output_type": "stream",
     "text": [
      "The normalized eigenvectors are:\n",
      "[ 0.94027158 -0.34042526]\n",
      "[0.34042526 0.94027158]\n"
     ]
    }
   ],
   "source": [
    "a = np.array([[1, -0.3620499351813309], [1, 2.7620499351813317]])\n",
    "\n",
    "plane_1 = a[0] / np.linalg.norm(a[0])\n",
    "plane_2 = a[1] / np.linalg.norm(a[1])\n",
    "\n",
    "print('The normalized eigenvectors are:')\n",
    "print(plane_1)\n",
    "print(plane_2)"
   ]
  },
  {
   "cell_type": "code",
   "execution_count": 96,
   "metadata": {},
   "outputs": [
    {
     "name": "stdout",
     "output_type": "stream",
     "text": [
      "Projection of Vector [1 1] on Vector v is:  1.28069684\n",
      "Projection of Vector [2 2] on Vector v is:  2.56139368\n",
      "Projection of Vector [3 6] on Vector v is:  6.6629052600000005\n"
     ]
    }
   ],
   "source": [
    "# Projecting the data into the principal component\n",
    "dim = np.array([0.34042526, 0.94027158])   # vector v:\n",
    "  \n",
    "for point in data:\n",
    "    proj_of_point_on_dim = np.dot(point, dim)\n",
    "    print(f\"Projection of Vector {point} on Vector v is: \", proj_of_point_on_dim)"
   ]
  },
  {
   "cell_type": "markdown",
   "metadata": {},
   "source": [
    "# Kmeans"
   ]
  },
  {
   "cell_type": "code",
   "execution_count": 31,
   "metadata": {},
   "outputs": [
    {
     "name": "stdout",
     "output_type": "stream",
     "text": [
      "The final mean vector is given by: [array([1.4, 1.2, 0.4]), array([8., 8., 4.])]\n"
     ]
    }
   ],
   "source": [
    "# Data\n",
    "X = np.array([[1, 0, 0], [8, 8, 4], [3, 3, 0], [0, 0, 1], [0, 1, 0], [3, 2, 1]])\n",
    "\n",
    "# Number of clusters\n",
    "K = 2\n",
    "\n",
    "# Means\n",
    "mi = np.array([[1, 0, 0], [8, 8, 4]])\n",
    "\n",
    "# Epochs\n",
    "epochs = 10\n",
    "\n",
    "for epoch in range(0, epochs):\n",
    "    # Step 1: Assign points to clusters\n",
    "    assignments = []\n",
    "    for i in range(0, len(X)):\n",
    "        dist = []\n",
    "        for j in range(0, K):\n",
    "            dist.append(np.linalg.norm(X[i] - mi[j])**2)\n",
    "        assignments.append(np.argmin(dist))\n",
    "\n",
    "    # Step 2: Compute new clusters\n",
    "    mi_new = [np.average(X[np.array(assignments) == k], axis=0) for k in range(0, K)]\n",
    "\n",
    "    # Step 3: Verify convergence\n",
    "    for a in range(0, K):\n",
    "        if np.linalg.norm(mi[a] - mi_new[a])**2 > 0.01:\n",
    "            mi = mi_new\n",
    "        else:\n",
    "            break\n",
    "print(f'The final mean vector is given by: {mi}')"
   ]
  },
  {
   "cell_type": "markdown",
   "metadata": {},
   "source": [
    "# CNN"
   ]
  },
  {
   "cell_type": "code",
   "execution_count": 6,
   "metadata": {
    "scrolled": true
   },
   "outputs": [
    {
     "name": "stdout",
     "output_type": "stream",
     "text": [
      "Collecting h5py==2.9\n",
      "  Downloading h5py-2.9.0-cp37-cp37m-win_amd64.whl (2.4 MB)\n",
      "Requirement already satisfied: six in c:\\users\\guilh\\anaconda3\\lib\\site-packages (from h5py==2.9) (1.15.0)\n",
      "Requirement already satisfied: numpy>=1.7 in c:\\users\\guilh\\anaconda3\\lib\\site-packages (from h5py==2.9) (1.19.5)\n",
      "Installing collected packages: h5py\n",
      "  Attempting uninstall: h5py\n",
      "    Found existing installation: h5py 3.1.0\n",
      "    Uninstalling h5py-3.1.0:\n",
      "      Successfully uninstalled h5py-3.1.0\n"
     ]
    },
    {
     "name": "stderr",
     "output_type": "stream",
     "text": [
      "ERROR: Could not install packages due to an EnvironmentError: [WinError 5] Acesso negado: 'C:\\\\Users\\\\guilh\\\\AppData\\\\Local\\\\Temp\\\\pip-uninstall-rz0tstrm\\\\h5.cp37-win_amd64.pyd'\n",
      "Consider using the `--user` option or check the permissions.\n",
      "\n"
     ]
    }
   ],
   "source": [
    "!pip install h5py==2.9"
   ]
  },
  {
   "cell_type": "code",
   "execution_count": 2,
   "metadata": {
    "scrolled": false
   },
   "outputs": [
    {
     "name": "stdout",
     "output_type": "stream",
     "text": [
      "WARNING:tensorflow:Please add `keras.layers.InputLayer` instead of `keras.Input` to Sequential model. `keras.Input` is intended to be used by Functional model.\n",
      "Model: \"sequential\"\n",
      "_________________________________________________________________\n",
      "Layer (type)                 Output Shape              Param #   \n",
      "=================================================================\n",
      "conv (Conv2D)                (None, 24, 24, 8)         608       \n",
      "_________________________________________________________________\n",
      "pooling (MaxPooling2D)       (None, 11, 11, 8)         0         \n",
      "_________________________________________________________________\n",
      "flatten (Flatten)            (None, 968)               0         \n",
      "_________________________________________________________________\n",
      "dense (Dense)                (None, 10)                9690      \n",
      "=================================================================\n",
      "Total params: 10,298\n",
      "Trainable params: 10,298\n",
      "Non-trainable params: 0\n",
      "_________________________________________________________________\n"
     ]
    },
    {
     "data": {
      "text/plain": [
       "(None, 10)"
      ]
     },
     "execution_count": 2,
     "metadata": {},
     "output_type": "execute_result"
    }
   ],
   "source": [
    "from tensorflow import keras\n",
    "model = keras.Sequential([\n",
    "    keras.Input(shape=(28, 28 , 3)),\n",
    "    \n",
    "    keras.layers.Conv2D(filters=8, # number of kernels\n",
    "                        kernel_size=(5, 5), # shape or kernel\n",
    "                        strides=(1, 1),\n",
    "                        padding='valid', # 'valid' or 'same' \n",
    "                        use_bias=True,\n",
    "                       name='conv'),\n",
    "    \n",
    "    #keras.layers.Conv2D(filters=12, # number of kernels\n",
    "    #                    kernel_size=(3, 3), # shape or kernel\n",
    "    #                    strides=(1, 1),\n",
    "    #                    padding='same', \n",
    "    #                    use_bias=True,\n",
    "    #                   name='conv2'),\n",
    "    \n",
    "    keras.layers.MaxPooling2D(pool_size=(4, 4),\n",
    "                                 strides=(2, 2),\n",
    "                                 name='pooling'),\n",
    "    \n",
    "    keras.layers.Flatten(name='flatten'), # Important to use\n",
    "    \n",
    "        keras.layers.Dense(10,\n",
    "                      activation = 'softmax')  # Important to use for classification\n",
    "    \n",
    "])\n",
    " \n",
    "model.summary()\n",
    "model.output_shape"
   ]
  },
  {
   "cell_type": "code",
   "execution_count": 34,
   "metadata": {
    "scrolled": true
   },
   "outputs": [
    {
     "name": "stdout",
     "output_type": "stream",
     "text": [
      "WARNING:tensorflow:Please add `keras.layers.InputLayer` instead of `keras.Input` to Sequential model. `keras.Input` is intended to be used by Functional model.\n",
      "Model: \"sequential_28\"\n",
      "_________________________________________________________________\n",
      "Layer (type)                 Output Shape              Param #   \n",
      "=================================================================\n",
      "flatten (Flatten)            (None, 2352)              0         \n",
      "_________________________________________________________________\n",
      "dense_36 (Dense)             (None, 100)               235300    \n",
      "_________________________________________________________________\n",
      "dense_37 (Dense)             (None, 10)                1010      \n",
      "=================================================================\n",
      "Total params: 236,310\n",
      "Trainable params: 236,310\n",
      "Non-trainable params: 0\n",
      "_________________________________________________________________\n"
     ]
    },
    {
     "data": {
      "text/plain": [
       "(None, 10)"
      ]
     },
     "execution_count": 34,
     "metadata": {},
     "output_type": "execute_result"
    }
   ],
   "source": [
    "from tensorflow import keras\n",
    "model = keras.Sequential([\n",
    "    keras.Input(shape=(28, 28 , 3)),\n",
    "    \n",
    "    keras.layers.Flatten(name='flatten'), # Important to use\n",
    "    \n",
    "        keras.layers.Dense(100),  \n",
    "        keras.layers.Dense(10,\n",
    "                      activation = 'softmax')  # Important to use for classification\n",
    "    \n",
    "])\n",
    " \n",
    "model.summary()\n",
    "model.output_shape"
   ]
  },
  {
   "cell_type": "code",
   "execution_count": 10,
   "metadata": {},
   "outputs": [
    {
     "name": "stdout",
     "output_type": "stream",
     "text": [
      "WARNING:tensorflow:Please add `keras.layers.InputLayer` instead of `keras.Input` to Sequential model. `keras.Input` is intended to be used by Functional model.\n",
      "Model: \"sequential_5\"\n",
      "_________________________________________________________________\n",
      "Layer (type)                 Output Shape              Param #   \n",
      "=================================================================\n",
      "conv1 (Conv2D)               (None, 28, 28, 16)        160       \n",
      "_________________________________________________________________\n",
      "dense_15 (Dense)             (None, 28, 28, 16)        272       \n",
      "_________________________________________________________________\n",
      "pooling (MaxPooling2D)       (None, 14, 14, 16)        0         \n",
      "_________________________________________________________________\n",
      "conv2 (Conv2D)               (None, 12, 12, 32)        4640      \n",
      "_________________________________________________________________\n",
      "dense_16 (Dense)             (None, 12, 12, 32)        1056      \n",
      "_________________________________________________________________\n",
      "pooling2 (MaxPooling2D)      (None, 6, 6, 32)          0         \n",
      "_________________________________________________________________\n",
      "flatten (Flatten)            (None, 1152)              0         \n",
      "_________________________________________________________________\n",
      "dense_17 (Dense)             (None, 10)                11530     \n",
      "=================================================================\n",
      "Total params: 17,658\n",
      "Trainable params: 17,658\n",
      "Non-trainable params: 0\n",
      "_________________________________________________________________\n"
     ]
    },
    {
     "data": {
      "text/plain": [
       "(None, 10)"
      ]
     },
     "execution_count": 10,
     "metadata": {},
     "output_type": "execute_result"
    }
   ],
   "source": [
    "model = keras.Sequential([\n",
    "    keras.Input(shape=(28, 28 , 1)),\n",
    "    \n",
    "    keras.layers.Conv2D(filters=16, # number of kernels\n",
    "                        kernel_size=(3, 3), # shape or kernel\n",
    "                        strides=(1, 1),\n",
    "                        padding='same', # 'valid' or 'same' \n",
    "                        use_bias=True,\n",
    "                       name='conv1'),\n",
    "    \n",
    "    keras.layers.Dense(16,\n",
    "                      activation = 'relu'),  # Important to use for classification\n",
    "    \n",
    "    keras.layers.MaxPooling2D(pool_size=(2, 2),\n",
    "                                 strides=(2, 2),\n",
    "                                 name='pooling'),\n",
    "    \n",
    "    \n",
    "    keras.layers.Conv2D(filters=32, # number of kernels\n",
    "                        kernel_size=(3, 3), # shape or kernel\n",
    "                        strides=(1, 1),\n",
    "                        padding='valid', \n",
    "                        use_bias=True,\n",
    "                       name='conv2'),\n",
    "    \n",
    "    keras.layers.Dense(32,\n",
    "                      activation = 'relu'),  # Important to use for classification\n",
    "    \n",
    "    keras.layers.MaxPooling2D(pool_size=(2, 2),\n",
    "                                 strides=(2, 2),\n",
    "                                 name='pooling2'),\n",
    "    \n",
    "    keras.layers.Flatten(name='flatten'), # Important to use\n",
    "    \n",
    "        keras.layers.Dense(10,\n",
    "                      activation = 'softmax')  # Important to use for classification\n",
    "    \n",
    "])\n",
    " \n",
    "model.summary()\n",
    "model.output_shape"
   ]
  },
  {
   "cell_type": "markdown",
   "metadata": {},
   "source": [
    "# MLP"
   ]
  },
  {
   "cell_type": "code",
   "execution_count": 6,
   "metadata": {},
   "outputs": [
    {
     "name": "stdout",
     "output_type": "stream",
     "text": [
      "WARNING:tensorflow:Please add `keras.layers.InputLayer` instead of `keras.Input` to Sequential model. `keras.Input` is intended to be used by Functional model.\n",
      "Model: \"sequential_5\"\n",
      "_________________________________________________________________\n",
      "Layer (type)                 Output Shape              Param #   \n",
      "=================================================================\n",
      "layer1 (Dense)               (None, 10000, 20)         2020      \n",
      "_________________________________________________________________\n",
      "layer2 (Dense)               (None, 10000, 20)         420       \n",
      "_________________________________________________________________\n",
      "layer3 (Dense)               (None, 10000, 1)          21        \n",
      "=================================================================\n",
      "Total params: 2,461\n",
      "Trainable params: 2,461\n",
      "Non-trainable params: 0\n",
      "_________________________________________________________________\n"
     ]
    },
    {
     "data": {
      "text/plain": [
       "(None, 10000, 1)"
      ]
     },
     "execution_count": 6,
     "metadata": {},
     "output_type": "execute_result"
    }
   ],
   "source": [
    "from tensorflow import keras\n",
    "model = keras.Sequential([\n",
    "    keras.Input(shape=(10000, 100)),\n",
    "    keras.layers.Dense(20,\n",
    "                       use_bias=True,\n",
    "                       name='layer1'),\n",
    "    \n",
    "    keras.layers.Dense(20,\n",
    "                       use_bias=True,\n",
    "                       name='layer2'),\n",
    "    keras.layers.Dense(1,\n",
    "                      name='layer3')\n",
    "])\n",
    " \n",
    "model.summary()\n",
    "model.output_shape"
   ]
  },
  {
   "cell_type": "code",
   "execution_count": null,
   "metadata": {},
   "outputs": [],
   "source": []
  }
 ],
 "metadata": {
  "kernelspec": {
   "display_name": "Python 3",
   "language": "python",
   "name": "python3"
  },
  "language_info": {
   "codemirror_mode": {
    "name": "ipython",
    "version": 3
   },
   "file_extension": ".py",
   "mimetype": "text/x-python",
   "name": "python",
   "nbconvert_exporter": "python",
   "pygments_lexer": "ipython3",
   "version": "3.7.9"
  }
 },
 "nbformat": 4,
 "nbformat_minor": 4
}
